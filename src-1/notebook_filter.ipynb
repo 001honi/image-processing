{
 "cells": [
  {
   "cell_type": "code",
   "execution_count": 1,
   "metadata": {},
   "outputs": [],
   "source": [
    "import cv2 as cv \n",
    "import honi_filter_lib\n",
    "\n",
    "path = './img-filter/'"
   ]
  },
  {
   "cell_type": "code",
   "execution_count": 2,
   "metadata": {},
   "outputs": [],
   "source": [
    "# Gaussian Blur | no_flash1 & no_flash2\n",
    "\n",
    "img_filter = honi_filter_lib.ImgFilter() \n",
    "\n",
    "fnames = ['no_flash1','no_flash2']\n",
    "\n",
    "for fname in fnames:\n",
    "    img = cv.imread(path+fname+'.jpg')\n",
    "    img_filter.setInput(img)\n",
    "\n",
    "    for sigma in [1,3]:\n",
    "        img_filter.applyGB(sigma=sigma) \n",
    "        img_out = img_filter.getOutput()\n",
    "        cv.imwrite(path+fname+f'_GB_{sigma}'+'.jpg',img_out)"
   ]
  },
  {
   "cell_type": "code",
   "execution_count": 3,
   "metadata": {},
   "outputs": [
    {
     "name": "stderr",
     "output_type": "stream",
     "text": [
      "  0%|          | 0/243 [00:00<?, ?it/s]d:\\0\\kaist-ee535\\asgmt1\\filter\\img_filter_lib.py:79: RuntimeWarning: overflow encountered in ubyte_scalars\n",
      "  Kr = ImgFilter.gauss(sigma=sigma_range,dist=abs(Ic-In))\n",
      "100%|██████████| 243/243 [00:33<00:00,  7.35it/s]\n",
      "100%|██████████| 243/243 [02:47<00:00,  1.45it/s]\n",
      "100%|██████████| 300/300 [01:02<00:00,  4.81it/s]\n",
      "100%|██████████| 300/300 [06:53<00:00,  1.38s/it]\n"
     ]
    }
   ],
   "source": [
    "# Bilateral Filter | no_flash1 & no_flash2\n",
    "\n",
    "img_filter = honi_filter_lib.ImgFilter() \n",
    "\n",
    "fnames = ['no_flash1','no_flash2']\n",
    "\n",
    "for fname in fnames:\n",
    "    img = cv.imread(path+fname+'.jpg')\n",
    "    img_filter.setInput(img)\n",
    "\n",
    "    for sigma_space in [1,3]:\n",
    "        for sigma_range in [80]:\n",
    "            img_filter.applyBF(sigma_space=sigma_space,sigma_range=sigma_range) \n",
    "            img_out = img_filter.getOutput()\n",
    "            cv.imwrite(path+fname+f'_BF_{sigma_space}_{sigma_range}'+'.jpg',img_out)"
   ]
  },
  {
   "cell_type": "code",
   "execution_count": 6,
   "metadata": {},
   "outputs": [
    {
     "name": "stderr",
     "output_type": "stream",
     "text": [
      "100%|██████████| 243/243 [00:22<00:00, 10.77it/s]\n",
      "100%|██████████| 243/243 [02:29<00:00,  1.62it/s]\n"
     ]
    }
   ],
   "source": [
    "# Joint Bilateral Filter | no_flash1::flash1 & no_flash2::flash2\n",
    "\n",
    "img_filter = honi_filter_lib.ImgFilter() \n",
    "\n",
    "fnames = ['flash1','flash2']\n",
    "\n",
    "for fname in fnames:\n",
    "    img = cv.imread(path+'no_'+fname+'.jpg')\n",
    "    img_guidance = cv.imread(path+fname+'.jpg')\n",
    "    img_filter.setInput(img)\n",
    "\n",
    "    for sigma_space in [1,3]:\n",
    "        for sigma_range in [80]:\n",
    "            img_filter.applyBF(sigma_space=sigma_space,sigma_range=sigma_range,img_guidance=img_guidance) \n",
    "            img_out = img_filter.getOutput()\n",
    "            cv.imwrite(path+fname+f'_JBF_{sigma_space}_{sigma_range}'+'.jpg',img_out)"
   ]
  },
  {
   "cell_type": "code",
   "execution_count": 5,
   "metadata": {},
   "outputs": [
    {
     "name": "stderr",
     "output_type": "stream",
     "text": [
      "100%|██████████| 640/640 [21:05<00:00,  1.98s/it]\n",
      "100%|██████████| 640/640 [20:07<00:00,  1.89s/it]\n",
      "100%|██████████| 640/640 [17:43<00:00,  1.66s/it]\n",
      "100%|██████████| 640/640 [18:12<00:00,  1.71s/it]\n",
      "100%|██████████| 640/640 [17:10<00:00,  1.61s/it]\n"
     ]
    },
    {
     "data": {
      "text/plain": [
       "True"
      ]
     },
     "execution_count": 5,
     "metadata": {},
     "output_type": "execute_result"
    }
   ],
   "source": [
    "# Rolling Guidance Filter | fish \n",
    "\n",
    "img_filter = honi_filter_lib.ImgFilter() \n",
    "\n",
    "img = cv.imread(path+'fish.jpg')\n",
    "img_filter.setInput(img)\n",
    "\n",
    "sigma = 1 # step-1 Gaussian Blur \n",
    "sigma_space = 3 # iterative JBF \n",
    "sigma_range = 80\n",
    "iteration = 5 \n",
    "\n",
    "img_filter.applyRollingGuidance(sigma=sigma,sigma_space=sigma_space,sigma_range=sigma_range,iteration=iteration) \n",
    "img_out = img_filter.getOutput()\n",
    "cv.imwrite(path+fname+f'_RG_{sigma_space}_{sigma_range}'+'.jpg',img_out)"
   ]
  }
 ],
 "metadata": {
  "interpreter": {
   "hash": "76ca30080b1287aa2231f5dfdce9b270326770c8d2601174cfcf63b351d9e30f"
  },
  "kernelspec": {
   "display_name": "Python 3.9.10 64-bit",
   "language": "python",
   "name": "python3"
  },
  "language_info": {
   "codemirror_mode": {
    "name": "ipython",
    "version": 3
   },
   "file_extension": ".py",
   "mimetype": "text/x-python",
   "name": "python",
   "nbconvert_exporter": "python",
   "pygments_lexer": "ipython3",
   "version": "3.9.10"
  },
  "orig_nbformat": 4
 },
 "nbformat": 4,
 "nbformat_minor": 2
}
